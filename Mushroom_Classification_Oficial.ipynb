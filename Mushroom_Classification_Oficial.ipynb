{
 "cells": [
  {
   "cell_type": "code",
   "execution_count": 1,
   "metadata": {},
   "outputs": [],
   "source": [
    "from tensorflow.keras.applications.vgg16 import VGG16, preprocess_input\n",
    "from tensorflow.keras.models import Sequential\n",
    "from tensorflow.keras.layers import Dense, Flatten, Dropout\n",
    "from tensorflow.keras.preprocessing.image import ImageDataGenerator, load_img, img_to_array\n",
    "from tensorflow.keras.optimizers import Adam\n",
    "from tensorflow.keras.callbacks import EarlyStopping\n",
    "import tensorflow as tf\n",
    "import matplotlib.pyplot as plt\n",
    "import numpy as np\n",
    "from PIL import Image\n",
    "import os\n",
    "import cv2"
   ]
  },
  {
   "cell_type": "code",
   "execution_count": null,
   "metadata": {},
   "outputs": [],
   "source": [
    "# Caminho para o diretório que contém as subpastas 'comestivel' e 'venenoso'\n",
    "\n",
    "data_dir = r'C:\\GitHub\\MushroomClassification\\Mushrooms'"
   ]
  },
  {
   "cell_type": "markdown",
   "metadata": {},
   "source": [
    "def verify_images(directory):\n",
    "    for root, _, files in os.walk(directory):\n",
    "        for file in files:\n",
    "            file_path = os.path.join(root, file)\n",
    "            try:\n",
    "                img = Image.open(file_path)\n",
    "                img.verify()  # Verifica a integridade da imagem\n",
    "            except (IOError, SyntaxError) as e:\n",
    "                print(f\"Imagem corrompida detectada e removida: {file_path}\")\n",
    "                os.remove(file_path)"
   ]
  },
  {
   "cell_type": "markdown",
   "metadata": {},
   "source": [
    " Executa a verificação\n",
    "\n",
    "verify_images(data_dir)"
   ]
  },
  {
   "cell_type": "code",
   "execution_count": 3,
   "metadata": {},
   "outputs": [],
   "source": [
    "# Função para converter as imagens para o formato PNG\n",
    "def convert_image_format(image_path, output_path):\n",
    "    try:\n",
    "        img = Image.open(image_path)\n",
    "        img.save(output_path, 'PNG')\n",
    "    except Exception as e:\n",
    "        print(f\"Erro ao converter a imagem {image_path}: {e}\")"
   ]
  },
  {
   "cell_type": "code",
   "execution_count": 4,
   "metadata": {},
   "outputs": [],
   "source": [
    "# Converter todas as imagens no diretório de forma recursiva\n",
    "def convert_images_in_directory(directory):\n",
    "    for root, dirs, files in os.walk(directory):\n",
    "        for file in files:\n",
    "            file_path = os.path.join(root, file)\n",
    "            if file_path.endswith('.jpg') or file_path.endswith('.jpeg'):\n",
    "                output_path = file_path.replace('.jpg', '.png').replace('.jpeg', '.png')\n",
    "                convert_image_format(file_path, output_path)"
   ]
  },
  {
   "cell_type": "code",
   "execution_count": null,
   "metadata": {},
   "outputs": [],
   "source": [
    "# Converter as imagens antes de carregar para o modelo\n",
    "convert_images_in_directory(data_dir)"
   ]
  },
  {
   "cell_type": "code",
   "execution_count": 6,
   "metadata": {},
   "outputs": [],
   "source": [
    "# Configuração do Data Augmentation\n",
    "train_datagen = ImageDataGenerator(\n",
    "    rescale=1./255,\n",
    "    validation_split=0.3,\n",
    "    rotation_range=30,\n",
    "    width_shift_range=0.3,\n",
    "    height_shift_range=0.3,\n",
    "    shear_range=0.3,\n",
    "    zoom_range=0.3,\n",
    "    horizontal_flip=True,\n",
    "    fill_mode = 'nearest'\n",
    ")"
   ]
  },
  {
   "cell_type": "code",
   "execution_count": 7,
   "metadata": {},
   "outputs": [
    {
     "name": "stdout",
     "output_type": "stream",
     "text": [
      "Found 9403 images belonging to 9 classes.\n"
     ]
    }
   ],
   "source": [
    "# Geradores de treinamento e validação\n",
    "train_generator = train_datagen.flow_from_directory(\n",
    "    data_dir,  # substitua pelo caminho do diretório com as imagens\n",
    "    target_size=(224, 224),\n",
    "    batch_size=32,\n",
    "    class_mode='categorical',\n",
    "    subset='training',\n",
    ")"
   ]
  },
  {
   "cell_type": "code",
   "execution_count": 8,
   "metadata": {},
   "outputs": [
    {
     "name": "stdout",
     "output_type": "stream",
     "text": [
      "Found 4023 images belonging to 9 classes.\n"
     ]
    }
   ],
   "source": [
    "validation_generator = train_datagen.flow_from_directory(\n",
    "    data_dir,\n",
    "    target_size=(224, 224),\n",
    "    batch_size=32,\n",
    "    class_mode='categorical',\n",
    "    subset='validation',\n",
    ")"
   ]
  },
  {
   "cell_type": "code",
   "execution_count": 9,
   "metadata": {},
   "outputs": [],
   "source": [
    "# Carregar o modelo base VGG16 pré-treinado\n",
    "base_model = VGG16(input_shape=(224, 224, 3), include_top=False, weights='imagenet')\n",
    "base_model.trainable = True\n",
    "for layer in base_model.layers[:-4]:  # Mantenha as primeiras camadas congeladas, descongelando apenas as últimas 4\n",
    "    layer.trainable = False\n"
   ]
  },
  {
   "cell_type": "code",
   "execution_count": 12,
   "metadata": {},
   "outputs": [],
   "source": [
    "# Construir o modelo completo\n",
    "model = Sequential([\n",
    "    base_model,\n",
    "    Flatten(),\n",
    "    Dense(512, activation='relu'),\n",
    "    Dropout(0.5),\n",
    "    Dense(9, activation='softmax')\n",
    "])"
   ]
  },
  {
   "cell_type": "code",
   "execution_count": 13,
   "metadata": {},
   "outputs": [
    {
     "name": "stdout",
     "output_type": "stream",
     "text": [
      "Epoch 1/10\n",
      "\u001b[1m294/294\u001b[0m \u001b[32m━━━━━━━━━━━━━━━━━━━━\u001b[0m\u001b[37m\u001b[0m \u001b[1m0s\u001b[0m 6s/step - accuracy: 0.2536 - loss: 2.0348"
     ]
    },
    {
     "name": "stderr",
     "output_type": "stream",
     "text": [
      "C:\\Users\\Uso Pessoal\\AppData\\Local\\Packages\\PythonSoftwareFoundation.Python.3.12_qbz5n2kfra8p0\\LocalCache\\local-packages\\Python312\\site-packages\\keras\\src\\trainers\\data_adapters\\py_dataset_adapter.py:121: UserWarning: Your `PyDataset` class should call `super().__init__(**kwargs)` in its constructor. `**kwargs` can include `workers`, `use_multiprocessing`, `max_queue_size`. Do not pass these arguments to `fit()`, as they will be ignored.\n",
      "  self._warn_if_super_not_called()\n"
     ]
    },
    {
     "name": "stdout",
     "output_type": "stream",
     "text": [
      "\u001b[1m294/294\u001b[0m \u001b[32m━━━━━━━━━━━━━━━━━━━━\u001b[0m\u001b[37m\u001b[0m \u001b[1m2584s\u001b[0m 9s/step - accuracy: 0.2538 - loss: 2.0342 - val_accuracy: 0.4464 - val_loss: 1.5724\n",
      "Epoch 2/10\n",
      "\u001b[1m294/294\u001b[0m \u001b[32m━━━━━━━━━━━━━━━━━━━━\u001b[0m\u001b[37m\u001b[0m \u001b[1m2580s\u001b[0m 9s/step - accuracy: 0.4911 - loss: 1.4496 - val_accuracy: 0.5372 - val_loss: 1.3764\n",
      "Epoch 3/10\n",
      "\u001b[1m294/294\u001b[0m \u001b[32m━━━━━━━━━━━━━━━━━━━━\u001b[0m\u001b[37m\u001b[0m \u001b[1m2900s\u001b[0m 10s/step - accuracy: 0.6114 - loss: 1.1151 - val_accuracy: 0.5523 - val_loss: 1.3299\n",
      "Epoch 4/10\n",
      "\u001b[1m294/294\u001b[0m \u001b[32m━━━━━━━━━━━━━━━━━━━━\u001b[0m\u001b[37m\u001b[0m \u001b[1m2929s\u001b[0m 10s/step - accuracy: 0.6674 - loss: 0.9433 - val_accuracy: 0.5983 - val_loss: 1.1985\n",
      "Epoch 5/10\n",
      "\u001b[1m294/294\u001b[0m \u001b[32m━━━━━━━━━━━━━━━━━━━━\u001b[0m\u001b[37m\u001b[0m \u001b[1m3140s\u001b[0m 11s/step - accuracy: 0.7283 - loss: 0.7901 - val_accuracy: 0.6174 - val_loss: 1.1778\n",
      "Epoch 6/10\n",
      "\u001b[1m294/294\u001b[0m \u001b[32m━━━━━━━━━━━━━━━━━━━━\u001b[0m\u001b[37m\u001b[0m \u001b[1m2955s\u001b[0m 10s/step - accuracy: 0.7509 - loss: 0.7204 - val_accuracy: 0.6617 - val_loss: 1.0773\n",
      "Epoch 7/10\n",
      "\u001b[1m294/294\u001b[0m \u001b[32m━━━━━━━━━━━━━━━━━━━━\u001b[0m\u001b[37m\u001b[0m \u001b[1m3091s\u001b[0m 11s/step - accuracy: 0.8043 - loss: 0.5815 - val_accuracy: 0.6662 - val_loss: 1.0542\n",
      "Epoch 8/10\n",
      "\u001b[1m294/294\u001b[0m \u001b[32m━━━━━━━━━━━━━━━━━━━━\u001b[0m\u001b[37m\u001b[0m \u001b[1m2893s\u001b[0m 10s/step - accuracy: 0.8191 - loss: 0.5308 - val_accuracy: 0.6510 - val_loss: 1.1501\n",
      "Epoch 9/10\n",
      "\u001b[1m294/294\u001b[0m \u001b[32m━━━━━━━━━━━━━━━━━━━━\u001b[0m\u001b[37m\u001b[0m \u001b[1m2723s\u001b[0m 9s/step - accuracy: 0.8438 - loss: 0.4509 - val_accuracy: 0.6639 - val_loss: 1.1520\n",
      "Epoch 10/10\n",
      "\u001b[1m294/294\u001b[0m \u001b[32m━━━━━━━━━━━━━━━━━━━━\u001b[0m\u001b[37m\u001b[0m \u001b[1m3244s\u001b[0m 11s/step - accuracy: 0.8681 - loss: 0.3951 - val_accuracy: 0.6624 - val_loss: 1.1709\n"
     ]
    }
   ],
   "source": [
    "# Compilação do modelo\n",
    "model.compile(optimizer=Adam(learning_rate=0.0001), loss='categorical_crossentropy', metrics=['accuracy'])\n",
    "\n",
    "early_stopping = EarlyStopping(monitor='val_loss', patience=5, restore_best_weights=True)\n",
    "\n",
    "history = model.fit(\n",
    "    train_generator,\n",
    "    validation_data=validation_generator,\n",
    "    epochs=10,  # Aumente o número de épocas\n",
    "    callbacks=[early_stopping]\n",
    ")"
   ]
  },
  {
   "cell_type": "code",
   "execution_count": 14,
   "metadata": {},
   "outputs": [
    {
     "name": "stdout",
     "output_type": "stream",
     "text": [
      "\u001b[1m126/126\u001b[0m \u001b[32m━━━━━━━━━━━━━━━━━━━━\u001b[0m\u001b[37m\u001b[0m \u001b[1m829s\u001b[0m 7s/step - accuracy: 0.6617 - loss: 1.1144\n",
      "Acurácia: 66.69%\n"
     ]
    }
   ],
   "source": [
    "# Avaliação\n",
    "loss, accuracy = model.evaluate(validation_generator)\n",
    "print(f\"Acurácia: {accuracy * 100:.2f}%\")\n"
   ]
  },
  {
   "cell_type": "code",
   "execution_count": 15,
   "metadata": {},
   "outputs": [
    {
     "data": {
      "image/png": "[encoded data removed]",
      "text/plain": [
       "<Figure size 640x480 with 1 Axes>"
      ]
     },
     "metadata": {},
     "output_type": "display_data"
    }
   ],
   "source": [
    "# Visualizando a perda e acurácia\n",
    "plt.plot(history.history['accuracy'], label='Acurácia de Treinamento')\n",
    "plt.plot(history.history['val_accuracy'], label='Acurácia de Validação')\n",
    "plt.xlabel('Épocas')\n",
    "plt.ylabel('Acurácia')\n",
    "plt.legend()\n",
    "plt.show()"
   ]
  },
  {
   "cell_type": "code",
   "execution_count": 18,
   "metadata": {},
   "outputs": [],
   "source": [
    "def safe_load_img(image_path):\n",
    "    try:\n",
    "        img = load_img(image_path, target_size=(224, 224))  # Redimensionar para 224x224 (tamanho de entrada do VGG16)\n",
    "        img_array = img_to_array(img)\n",
    "        return img_array\n",
    "    except Exception as e:\n",
    "        print(f\"Erro ao carregar a imagem {image_path}: {e}\")\n",
    "        return None"
   ]
  },
  {
   "cell_type": "code",
   "execution_count": 19,
   "metadata": {},
   "outputs": [],
   "source": [
    "# Função para validar novas imagens\n",
    "def validate_image(image_path):\n",
    "    processed_image = safe_load_img(image_path)\n",
    "    if processed_image is None:\n",
    "        print(\"Erro ao processar a imagem.\")\n",
    "        return\n",
    "    processed_image = np.expand_dims(processed_image, axis=0)  # Adicionar dimensão para batch\n",
    "    predictions = model.predict(processed_image)\n",
    "    class_index = np.argmax(predictions)  # Pega o índice da classe com maior probabilidade\n",
    "    class_labels = ['Agaricus', 'Amanita', 'Boletus', 'Cortinarius', 'Entoloma', 'Hygrocybe', 'Lactarius', 'Russula', 'Suillus']\n",
    "    predicted_class = class_labels[class_index]\n",
    "    \n",
    "    edible_classes = ['Agaricus', 'Boletus', 'Lactarius', 'Russula', 'Suillus']\n",
    "    if predicted_class in edible_classes:\n",
    "        print(f\"A imagem é do cogumelo {predicted_class}, que é comestível.\")\n",
    "    else:\n",
    "        print(f\"A imagem é do cogumelo {predicted_class}, que é venenoso.\")"
   ]
  },
  {
   "cell_type": "code",
   "execution_count": null,
   "metadata": {},
   "outputs": [
    {
     "name": "stdout",
     "output_type": "stream",
     "text": [
      "\u001b[1m1/1\u001b[0m \u001b[32m━━━━━━━━━━━━━━━━━━━━\u001b[0m\u001b[37m\u001b[0m \u001b[1m1s\u001b[0m 977ms/step\n",
      "A imagem é do cogumelo Amanita, que é venenoso.\n"
     ]
    }
   ],
   "source": [
    "# Insira o caminho da imagem para teste\n",
    "\n",
    "img_path = r'C:\\GitHub\\MushroomClassification\\Mushroom dataset\\cnn\\Poisonous\\img220.jpg'\n",
    "validate_image(img_path)"
   ]
  }
 ],
 "metadata": {
  "kernelspec": {
   "display_name": "Python 3",
   "language": "python",
   "name": "python3"
  },
  "language_info": {
   "codemirror_mode": {
    "name": "ipython",
    "version": 3
   },
   "file_extension": ".py",
   "mimetype": "text/x-python",
   "name": "python",
   "nbconvert_exporter": "python",
   "pygments_lexer": "ipython3",
   "version": "3.12.7"
  }
 },
 "nbformat": 4,
 "nbformat_minor": 2
}
